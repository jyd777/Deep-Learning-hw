{
 "cells": [
  {
   "cell_type": "markdown",
   "metadata": {},
   "source": [
    "## 准备数据"
   ]
  },
  {
   "cell_type": "code",
   "execution_count": 1,
   "metadata": {},
   "outputs": [],
   "source": [
    "import os\n",
    "import numpy as np\n",
    "import tensorflow as tf\n",
    "from tensorflow import keras\n",
    "from tensorflow.keras import layers, optimizers, datasets\n",
    "\n",
    "os.environ['TF_CPP_MIN_LOG_LEVEL'] = '2'  # or any {'0', '1', '2'}\n",
    "\n",
    "def mnist_dataset():\n",
    "    (x, y), (x_test, y_test) = datasets.mnist.load_data()\n",
    "    #normalize\n",
    "    x = x/255.0\n",
    "    x_test = x_test/255.0\n",
    "    \n",
    "    return (x, y), (x_test, y_test)"
   ]
  },
  {
   "cell_type": "code",
   "execution_count": 2,
   "metadata": {},
   "outputs": [
    {
     "name": "stdout",
     "output_type": "stream",
     "text": [
      "[(1, 'a'), (2, 'b'), (3, 'c'), (4, 'd')]\n"
     ]
    }
   ],
   "source": [
    "print(list(zip([1, 2, 3, 4], ['a', 'b', 'c', 'd'])))"
   ]
  },
  {
   "cell_type": "markdown",
   "metadata": {},
   "source": [
    "## 建立模型"
   ]
  },
  {
   "cell_type": "code",
   "execution_count": 18,
   "metadata": {},
   "outputs": [],
   "source": [
    "class myModel:\n",
    "    def __init__(self):\n",
    "        ####################\n",
    "        '''声明模型对应的参数'''\n",
    "        # 声明超参数\n",
    "        self.input_dim = 28 * 28 # 输入形状\n",
    "        self.hidden_dim = 2048 # 隐藏层单元数\n",
    "        self.output_dim = 10 # 输出形状\n",
    "        \n",
    "        # 声明模型对应的参数\n",
    "        self.W1 = tf.Variable(tf.random.normal([self.input_dim, self.hidden_dim], stddev=0.01), dtype=tf.float32)\n",
    "        self.b1 = tf.Variable(tf.zeros([self.hidden_dim]), dtype=tf.float32)\n",
    "        self.W2 = tf.Variable(tf.random.normal([self.hidden_dim, self.output_dim], stddev=0.01), dtype=tf.float32)\n",
    "        self.b2 = tf.Variable(tf.zeros([self.output_dim]), dtype=tf.float32)\n",
    "        ####################\n",
    "\n",
    "    def __call__(self, x):\n",
    "        ####################\n",
    "        '''实现模型函数体，返回未归一化的logits'''\n",
    "        x = tf.reshape(x, [-1, self.input_dim])  # 输入数据展平\n",
    "        h1 = tf.matmul(x, self.W1) + self.b1  # 第一层线性变换\n",
    "        x = tf.tanh(h1)  # 激活函数\n",
    "        logits = tf.matmul(x, self.W2) + self.b2  # 第二层线性变换        \n",
    "        ####################\n",
    "        return logits\n",
    "        \n",
    "model = myModel()\n",
    "\n",
    "optimizer = optimizers.Adam()"
   ]
  },
  {
   "cell_type": "markdown",
   "metadata": {},
   "source": [
    "## 计算 loss"
   ]
  },
  {
   "cell_type": "code",
   "execution_count": 12,
   "metadata": {},
   "outputs": [],
   "source": [
    "@tf.function\n",
    "def compute_loss(logits, labels):\n",
    "    return tf.reduce_mean(\n",
    "        tf.nn.sparse_softmax_cross_entropy_with_logits(\n",
    "            logits=logits, labels=labels))\n",
    "\n",
    "@tf.function\n",
    "def compute_accuracy(logits, labels):\n",
    "    predictions = tf.argmax(logits, axis=1)\n",
    "    return tf.reduce_mean(tf.cast(tf.equal(predictions, labels), tf.float32))\n",
    "\n",
    "@tf.function\n",
    "def train_one_step(model, optimizer, x, y):\n",
    "    with tf.GradientTape() as tape:\n",
    "        logits = model(x)\n",
    "        loss = compute_loss(logits, y)\n",
    "\n",
    "    # compute gradient\n",
    "    trainable_vars = [model.W1, model.W2, model.b1, model.b2]\n",
    "    grads = tape.gradient(loss, trainable_vars)\n",
    "    for g, v in zip(grads, trainable_vars):\n",
    "        v.assign_sub(0.01*g)\n",
    "\n",
    "    accuracy = compute_accuracy(logits, y)\n",
    "\n",
    "    # loss and accuracy is scalar tensor\n",
    "    return loss, accuracy\n",
    "\n",
    "@tf.function\n",
    "def test(model, x, y):\n",
    "    logits = model(x)\n",
    "    loss = compute_loss(logits, y)\n",
    "    accuracy = compute_accuracy(logits, y)\n",
    "    return loss, accuracy"
   ]
  },
  {
   "cell_type": "markdown",
   "metadata": {},
   "source": [
    "## 实际训练"
   ]
  },
  {
   "cell_type": "code",
   "execution_count": 19,
   "metadata": {},
   "outputs": [
    {
     "name": "stdout",
     "output_type": "stream",
     "text": [
      "epoch 0 : loss 2.3108344 ; accuracy 0.06576667\n",
      "epoch 1 : loss 2.3064072 ; accuracy 0.07425\n",
      "epoch 2 : loss 2.3019998 ; accuracy 0.08846667\n",
      "epoch 3 : loss 2.297611 ; accuracy 0.10723333\n",
      "epoch 4 : loss 2.29324 ; accuracy 0.13148333\n",
      "epoch 5 : loss 2.2888865 ; accuracy 0.15696667\n",
      "epoch 6 : loss 2.2845502 ; accuracy 0.18383333\n",
      "epoch 7 : loss 2.2802303 ; accuracy 0.21148333\n",
      "epoch 8 : loss 2.2759256 ; accuracy 0.23861666\n",
      "epoch 9 : loss 2.2716365 ; accuracy 0.26581666\n",
      "epoch 10 : loss 2.2673619 ; accuracy 0.29265\n",
      "epoch 11 : loss 2.2631016 ; accuracy 0.31896666\n",
      "epoch 12 : loss 2.258855 ; accuracy 0.34526667\n",
      "epoch 13 : loss 2.254622 ; accuracy 0.37135\n",
      "epoch 14 : loss 2.2504015 ; accuracy 0.39611667\n",
      "epoch 15 : loss 2.2461932 ; accuracy 0.42003334\n",
      "epoch 16 : loss 2.2419968 ; accuracy 0.441\n",
      "epoch 17 : loss 2.2378123 ; accuracy 0.46115\n",
      "epoch 18 : loss 2.2336385 ; accuracy 0.47888333\n",
      "epoch 19 : loss 2.2294753 ; accuracy 0.49523333\n",
      "epoch 20 : loss 2.2253225 ; accuracy 0.5101167\n",
      "epoch 21 : loss 2.2211792 ; accuracy 0.5240167\n",
      "epoch 22 : loss 2.2170453 ; accuracy 0.5366167\n",
      "epoch 23 : loss 2.212921 ; accuracy 0.54761666\n",
      "epoch 24 : loss 2.2088048 ; accuracy 0.5575167\n",
      "epoch 25 : loss 2.2046971 ; accuracy 0.56701666\n",
      "epoch 26 : loss 2.2005978 ; accuracy 0.5765167\n",
      "epoch 27 : loss 2.1965058 ; accuracy 0.5856\n",
      "epoch 28 : loss 2.1924214 ; accuracy 0.5931\n",
      "epoch 29 : loss 2.1883435 ; accuracy 0.60076666\n",
      "epoch 30 : loss 2.184273 ; accuracy 0.60788333\n",
      "epoch 31 : loss 2.1802084 ; accuracy 0.61431664\n",
      "epoch 32 : loss 2.17615 ; accuracy 0.6206167\n",
      "epoch 33 : loss 2.1720977 ; accuracy 0.626\n",
      "epoch 34 : loss 2.1680508 ; accuracy 0.6318333\n",
      "epoch 35 : loss 2.164009 ; accuracy 0.63725\n",
      "epoch 36 : loss 2.1599724 ; accuracy 0.6418167\n",
      "epoch 37 : loss 2.1559405 ; accuracy 0.64606667\n",
      "epoch 38 : loss 2.1519132 ; accuracy 0.6500667\n",
      "epoch 39 : loss 2.1478903 ; accuracy 0.6535\n",
      "epoch 40 : loss 2.143871 ; accuracy 0.65725\n",
      "epoch 41 : loss 2.1398556 ; accuracy 0.66085\n",
      "epoch 42 : loss 2.135844 ; accuracy 0.66428334\n",
      "epoch 43 : loss 2.1318352 ; accuracy 0.6675\n",
      "epoch 44 : loss 2.12783 ; accuracy 0.6701\n",
      "epoch 45 : loss 2.1238277 ; accuracy 0.67251664\n",
      "epoch 46 : loss 2.1198275 ; accuracy 0.67558336\n",
      "epoch 47 : loss 2.1158304 ; accuracy 0.6781667\n",
      "epoch 48 : loss 2.1118352 ; accuracy 0.6806833\n",
      "epoch 49 : loss 2.1078424 ; accuracy 0.6832167\n",
      "test loss 2.0998967 ; accuracy 0.6912\n"
     ]
    }
   ],
   "source": [
    "train_data, test_data = mnist_dataset()\n",
    "for epoch in range(50):\n",
    "    loss, accuracy = train_one_step(model, optimizer, \n",
    "                                    tf.constant(train_data[0], dtype=tf.float32), \n",
    "                                    tf.constant(train_data[1], dtype=tf.int64))\n",
    "    print('epoch', epoch, ': loss', loss.numpy(), '; accuracy', accuracy.numpy())\n",
    "loss, accuracy = test(model, \n",
    "                      tf.constant(test_data[0], dtype=tf.float32), \n",
    "                      tf.constant(test_data[1], dtype=tf.int64))\n",
    "\n",
    "print('test loss', loss.numpy(), '; accuracy', accuracy.numpy())"
   ]
  }
 ],
 "metadata": {
  "kernelspec": {
   "display_name": "tensorflow",
   "language": "python",
   "name": "python3"
  },
  "language_info": {
   "codemirror_mode": {
    "name": "ipython",
    "version": 3
   },
   "file_extension": ".py",
   "mimetype": "text/x-python",
   "name": "python",
   "nbconvert_exporter": "python",
   "pygments_lexer": "ipython3",
   "version": "3.10.16"
  }
 },
 "nbformat": 4,
 "nbformat_minor": 2
}
