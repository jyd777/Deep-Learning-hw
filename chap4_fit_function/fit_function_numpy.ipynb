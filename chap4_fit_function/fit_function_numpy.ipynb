{
 "cells": [
  {
   "cell_type": "markdown",
   "metadata": {},
   "source": [
    "## 导入包"
   ]
  },
  {
   "cell_type": "code",
   "execution_count": 3,
   "metadata": {},
   "outputs": [],
   "source": [
    "import numpy as np\n",
    "import matplotlib.pyplot as plt"
   ]
  },
  {
   "cell_type": "markdown",
   "metadata": {},
   "source": [
    "## 函数定义"
   ]
  },
  {
   "cell_type": "code",
   "execution_count": 4,
   "metadata": {},
   "outputs": [],
   "source": [
    "function = lambda x: 5* x**4 + 4* x**3 + 3* x**2 + 2*x + 1"
   ]
  },
  {
   "cell_type": "markdown",
   "metadata": {},
   "source": [
    "## 数据采集"
   ]
  },
  {
   "cell_type": "code",
   "execution_count": 5,
   "metadata": {},
   "outputs": [
    {
     "name": "stdout",
     "output_type": "stream",
     "text": [
      "训练集形状: (800,) (800,)\n",
      "测试集形状: (200,) (200,)\n"
     ]
    }
   ],
   "source": [
    "np.random.seed(42)\n",
    "\n",
    "# 生成1000个随机的x值，x在-1到1之间\n",
    "x_values = np.random.uniform(-1, 1, 1000)\n",
    "y_values = function(x_values)\n",
    "\n",
    "# 将x和y组合成数据集\n",
    "data = np.column_stack((x_values, y_values))\n",
    "\n",
    "# 打乱数据\n",
    "np.random.shuffle(data)\n",
    "\n",
    "# 划分训练集和测试集\n",
    "train_data = data[:800]\n",
    "test_data = data[800:]\n",
    "\n",
    "# 提取训练集和测试集的x和y\n",
    "x_train, y_train = train_data[:, 0], train_data[:, 1]\n",
    "x_test, y_test = test_data[:, 0], test_data[:, 1]\n",
    "\n",
    "# 打印训练集和测试集的形状以验证\n",
    "print(\"训练集形状:\", x_train.shape, y_train.shape)\n",
    "print(\"测试集形状:\", x_test.shape, y_test.shape)"
   ]
  },
  {
   "cell_type": "markdown",
   "metadata": {},
   "source": [
    "## 模型描述"
   ]
  },
  {
   "cell_type": "code",
   "execution_count": 6,
   "metadata": {},
   "outputs": [],
   "source": [
    "class MyModel:\n",
    "    def __init__(self, input_size, hidden_size, output_size):\n",
    "        \"\"\"\n",
    "        初始化神经网络模型\n",
    "        input_size: 输入维度\n",
    "        hidden_size: 隐藏层维度\n",
    "        output_size: 输出维度\n",
    "        \"\"\"\n",
    "        self.input_size = input_size\n",
    "        self.hidden_size = hidden_size\n",
    "        self.output_size = output_size\n",
    "        \n",
    "        # 初始化权重和偏置\n",
    "        self.W1 = np.random.randn(input_size, hidden_size) * 0.01\n",
    "        self.b1 = np.zeros((1, hidden_size))\n",
    "        self.W2 = np.random.randn(hidden_size, output_size) * 0.01\n",
    "        self.b2 = np.zeros((1, output_size))\n",
    "    \n",
    "    def relu(self, x):\n",
    "        \"\"\"ReLU激活函数\"\"\"\n",
    "        return np.maximum(x, 0)\n",
    "    \n",
    "    def forward(self, x):\n",
    "        \"\"\"前向传播\"\"\"\n",
    "        h1 = self.relu(np.matmul(x, self.W1) + self.b1)\n",
    "        output = np.matmul(h1, self.W2) + self.b2\n",
    "        return output, h1\n",
    "    \n",
    "    def loss_compute(self, y_pred, y_true):\n",
    "        \"\"\"计算均方误差损失\"\"\"\n",
    "        return np.mean((y_pred - y_true)**2)\n",
    "    \n",
    "    def gradient_compute(self, x, y_true, y_pred, h1):\n",
    "        \"\"\"计算梯度\"\"\"\n",
    "        # 计算输出层的梯度\n",
    "        dloss = 2 * (y_pred - y_true) / x.shape[0]  # 均方误差的梯度\n",
    "        dW2 = np.dot(h1.T, dloss)\n",
    "        db2 = np.sum(dloss, axis=0, keepdims=True)\n",
    "        # 计算第一隐藏层的梯度\n",
    "        dh1 = np.dot(dloss, self.W2.T)  # 从输出层反向传播到h1\n",
    "        drelu1 = (h1 > 0).astype(float) * dh1  # ReLU梯度\n",
    "        dW1 = np.dot(x.T, drelu1)\n",
    "        db1 = np.sum(drelu1, axis=0, keepdims=True)\n",
    "\n",
    "        return dW1, db1, dW2, db2\n",
    "    \n",
    "    def train(self, x_train, y_train, learning_rate=0.01, num_epochs=10000):\n",
    "        \"\"\"训练模型\"\"\"\n",
    "        for epoch in range(num_epochs):\n",
    "            # 前向传播\n",
    "            y_pred, h1 = self.forward(x_train)\n",
    "            \n",
    "            # 计算损失\n",
    "            loss = self.loss_compute(y_pred, y_train)\n",
    "            \n",
    "            # 计算梯度\n",
    "            dW1, db1, dW2, db2 = self.gradient_compute(x_train, y_train, y_pred, h1)\n",
    "            \n",
    "            # 更新权重\n",
    "            self.W1 -= learning_rate * dW1\n",
    "            self.b1 -= learning_rate * db1\n",
    "            self.W2 -= learning_rate * dW2\n",
    "            self.b2 -= learning_rate * db2\n",
    "            \n",
    "            if (epoch + 1) % 1000 == 0:\n",
    "                print(f'Epoch [{epoch+1}/{num_epochs}], Loss: {loss:.4f}')\n",
    "    \n",
    "    def test(self, x_test, y_test):\n",
    "        \"\"\"在测试集上评估模型\"\"\"\n",
    "        y_pred, _ = self.forward(x_test)\n",
    "        test_loss = self.loss_compute(y_pred, y_test)\n",
    "        print(f'Test Loss: {test_loss:.4f}')\n",
    "        return y_pred"
   ]
  },
  {
   "cell_type": "markdown",
   "metadata": {},
   "source": [
    "## 训练模型"
   ]
  },
  {
   "cell_type": "code",
   "execution_count": 7,
   "metadata": {},
   "outputs": [
    {
     "name": "stdout",
     "output_type": "stream",
     "text": [
      "Epoch [1000/10000], Loss: 0.3162\n",
      "Epoch [2000/10000], Loss: 0.1959\n",
      "Epoch [3000/10000], Loss: 0.1362\n",
      "Epoch [4000/10000], Loss: 0.0809\n",
      "Epoch [5000/10000], Loss: 0.0492\n",
      "Epoch [6000/10000], Loss: 0.0314\n",
      "Epoch [7000/10000], Loss: 0.0215\n",
      "Epoch [8000/10000], Loss: 0.0155\n",
      "Epoch [9000/10000], Loss: 0.0117\n",
      "Epoch [10000/10000], Loss: 0.0091\n"
     ]
    }
   ],
   "source": [
    "model = MyModel(input_size=1, hidden_size=128, output_size=1)\n",
    "model.train(x_train.reshape(-1,1), y_train.reshape(-1,1))"
   ]
  },
  {
   "cell_type": "markdown",
   "metadata": {},
   "source": [
    "## 测试模型（拟合效果）"
   ]
  },
  {
   "cell_type": "code",
   "execution_count": 8,
   "metadata": {},
   "outputs": [
    {
     "name": "stdout",
     "output_type": "stream",
     "text": [
      "Test Loss: 0.0075\n"
     ]
    },
    {
     "data": {
      "image/png": "[encoded data removed]",
      "text/plain": [
       "<Figure size 640x480 with 1 Axes>"
      ]
     },
     "metadata": {},
     "output_type": "display_data"
    }
   ],
   "source": [
    "def plot_results(x_test, y_test, y_pred):\n",
    "    \"\"\"绘制拟合效果\"\"\"\n",
    "    plt.scatter(x_test, y_test, label='True Data', alpha=0.5)\n",
    "    plt.scatter(x_test, y_pred, color='orange', marker='x', label='Predicted Data')\n",
    "    plt.legend()\n",
    "    plt.xlabel('x')\n",
    "    plt.ylabel('f(x)')\n",
    "    plt.title('Model Fitting Result')\n",
    "    plt.show()\n",
    "    \n",
    "# 测试模型\n",
    "y_pred = model.test(x_test.reshape(-1, 1), y_test.reshape(-1, 1))\n",
    "\n",
    "# 绘制拟合效果\n",
    "plot_results(x_test, y_test, y_pred)"
   ]
  }
 ],
 "metadata": {
  "kernelspec": {
   "display_name": "multimodle",
   "language": "python",
   "name": "python3"
  },
  "language_info": {
   "codemirror_mode": {
    "name": "ipython",
    "version": 3
   },
   "file_extension": ".py",
   "mimetype": "text/x-python",
   "name": "python",
   "nbconvert_exporter": "python",
   "pygments_lexer": "ipython3",
   "version": "3.9.19"
  }
 },
 "nbformat": 4,
 "nbformat_minor": 2
}
